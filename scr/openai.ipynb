{
 "cells": [
  {
   "cell_type": "code",
   "execution_count": 1,
   "id": "d0e79378",
   "metadata": {},
   "outputs": [],
   "source": [
    "import os\n",
    "import requests\n",
    "from dotenv import load_dotenv\n",
    "from bs4 import BeautifulSoup\n",
    "from IPython.display import Markdown, display\n",
    "from openai import OpenAI\n",
    "from scrape import Website"
   ]
  },
  {
   "cell_type": "code",
   "execution_count": 2,
   "id": "045b818f",
   "metadata": {},
   "outputs": [
    {
     "name": "stdout",
     "output_type": "stream",
     "text": [
      "API key found and looks good so far!\n"
     ]
    }
   ],
   "source": [
    "load_dotenv(override=True)\n",
    "api_key = os.getenv('OPENAI_API_KEY')\n",
    "\n",
    "# Check the key\n",
    "\n",
    "if not api_key:\n",
    "    print(\"No API key was found - please head over to the troubleshooting notebook in this folder to identify & fix!\")\n",
    "elif not api_key.startswith(\"sk-proj-\"):\n",
    "    print(\"An API key was found, but it doesn't start sk-proj-; please check you're using the right key - see troubleshooting notebook\")\n",
    "elif api_key.strip() != api_key:\n",
    "    print(\"An API key was found, but it looks like it might have space or tab characters at the start or end - please remove them - see troubleshooting notebook\")\n",
    "else:\n",
    "    print(\"API key found and looks good so far!\")"
   ]
  },
  {
   "cell_type": "code",
   "execution_count": 3,
   "id": "1d485f22",
   "metadata": {},
   "outputs": [],
   "source": [
    "openai = OpenAI()"
   ]
  },
  {
   "cell_type": "code",
   "execution_count": 4,
   "id": "ca2f5d34",
   "metadata": {},
   "outputs": [],
   "source": [
    "system_prompt = \"You are an assistant that analyzes the contents of a website \\\n",
    "and provides a short summary, ignoring text that might be navigation related. \\\n",
    "Respond in markdown.\""
   ]
  },
  {
   "cell_type": "code",
   "execution_count": 5,
   "id": "7d3835b0",
   "metadata": {},
   "outputs": [],
   "source": [
    "def user_prompt_for(website):\n",
    "    user_prompt = f\"You are looking at a website titled {website.title}\"\n",
    "    user_prompt += \"\\nThe contents of this website is as follows; \\\n",
    "please provide a short summary of this website in markdown. \\\n",
    "If it includes news or announcements, then summarize these too.\\n\\n\"\n",
    "    user_prompt += website.text\n",
    "    return user_prompt"
   ]
  },
  {
   "cell_type": "code",
   "execution_count": 6,
   "id": "9626574c",
   "metadata": {},
   "outputs": [],
   "source": [
    "def summarize_website(website):\n",
    "    prompt = user_prompt_for(website)\n",
    "    response = openai.chat.completions.create(\n",
    "        model=\"gpt-3.5-turbo\",\n",
    "        messages=[\n",
    "            {\"role\": \"system\", \"content\": system_prompt},\n",
    "            {\"role\": \"user\", \"content\": prompt}\n",
    "        ]\n",
    "    )\n",
    "    return response.choices[0].message.content"
   ]
  },
  {
   "cell_type": "code",
   "execution_count": null,
   "id": "747aa085",
   "metadata": {},
   "outputs": [
    {
     "name": "stdout",
     "output_type": "stream",
     "text": [
      "# Summary\n",
      "\n",
      "The website contains information about Jeeva Clinical Trials, their mission, team, solutions, and partnerships. Jeeva is focused on making clinical trials efficient and accessible to all patients through their innovative platform with AI and automation. They offer a human-centric software platform for clinical research at scale, providing accelerated recruitment, study-fit flexibility, and patient engagement tools. The platform eliminates the need for multiple point solutions, streamlines study execution, and supports diverse study designs. Jeeva also highlights testimonials from clients and partners, showcasing the impact of their platform on various clinical trial procedures. Additionally, news and announcements include Jeeva's recognition in the Decentralized Clinical Trials Industry and receipt of the Virginia Commonwealth Commercialization Fund. The website is designed to provide comprehensive information about the company, its products, and the benefits of partnering with Jeeva for clinical trial management.\n"
     ]
    }
   ],
   "source": [
    "url = \"https://jeevatrials.com/about/\"\n",
    "website = Website(url)\n",
    "summary = summarize_website(website)\n",
    "\n",
    "# If you're using a notebook:\n",
    "#display(Markdown(summary))\n",
    "# Or in a .py file:\n",
    "#print(summary)"
   ]
  }
 ],
 "metadata": {
  "kernelspec": {
   "display_name": "jeevaenv",
   "language": "python",
   "name": "python3"
  },
  "language_info": {
   "codemirror_mode": {
    "name": "ipython",
    "version": 3
   },
   "file_extension": ".py",
   "mimetype": "text/x-python",
   "name": "python",
   "nbconvert_exporter": "python",
   "pygments_lexer": "ipython3",
   "version": "3.10.12"
  }
 },
 "nbformat": 4,
 "nbformat_minor": 5
}
