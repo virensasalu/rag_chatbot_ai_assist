{
 "cells": [
  {
   "cell_type": "code",
   "execution_count": null,
   "id": "dfa62d54",
   "metadata": {},
   "outputs": [],
   "source": [
    "import requests\n",
    "from bs4 import BeautifulSoup\n",
    "from sentence_transformers import SentenceTransformer\n",
    "import faiss\n",
    "import openai\n",
    "import numpy as np\n",
    "from IPython.display import Markdown, display"
   ]
  },
  {
   "cell_type": "code",
   "execution_count": null,
   "id": "0d53a0d0",
   "metadata": {},
   "outputs": [],
   "source": [
    "class Website:\n",
    "    def __init__(self, url):\n",
    "        self.url = url\n",
    "        response = requests.get(url)\n",
    "        soup = BeautifulSoup(response.content, 'html.parser')\n",
    "        self.title = soup.title.string.strip() if soup.title else \"No title found\"\n",
    "        \n",
    "\n",
    "        for irrelevant in soup([\"script\", \"style\", \"img\", \"input\", \"noscript\", \"footer\", \"header\", \"nav\", \"form\"]):\n",
    "            irrelevant.decompose()\n",
    "\n",
    "        self.soup = soup\n",
    "        self.text = soup.get_text(separator=\"\\n\", strip=True)\n",
    "\n",
    "    def export_as_markdown(self, file_path=\"output.md\"):\n",
    "        def tag_to_markdown(tag):\n",
    "            if tag.name in [\"h1\", \"h2\", \"h3\", \"h4\", \"h5\", \"h6\"]:\n",
    "                level = int(tag.name[1])\n",
    "                return f\"{'#' * level} {tag.get_text(strip=True)}\\n\"\n",
    "            elif tag.name == \"p\":\n",
    "                return f\"{tag.get_text(strip=True)}\\n\"\n",
    "            elif tag.name == \"ul\":\n",
    "                return '\\n'.join([f\"- {li.get_text(strip=True)}\" for li in tag.find_all(\"li\")]) + \"\\n\"\n",
    "            elif tag.name == \"ol\":\n",
    "                return '\\n'.join([f\"{i+1}. {li.get_text(strip=True)}\" for i, li in enumerate(tag.find_all(\"li\"))]) + \"\\n\"\n",
    "            else:\n",
    "                return \"\"\n",
    "\n",
    "        with open(file_path, \"w\", encoding=\"utf-8\") as f:\n",
    "            f.write(f\"# {self.title}\\n\\n\")\n",
    "            for tag in self.soup.body.find_all([\"h1\", \"h2\", \"h3\", \"h4\", \"h5\", \"h6\", \"p\", \"ul\", \"ol\"], recursive=True):\n",
    "                markdown = tag_to_markdown(tag)\n",
    "                if markdown.strip():\n",
    "                    f.write(markdown + \"\\n\")"
   ]
  },
  {
   "cell_type": "code",
   "execution_count": null,
   "id": "93374350",
   "metadata": {},
   "outputs": [],
   "source": []
  },
  {
   "cell_type": "code",
   "execution_count": 27,
   "id": "538c8492",
   "metadata": {},
   "outputs": [],
   "source": [
    "ed_about = Website(\"https://jeevatrials.com/about/\")\n",
    "ed_serve = Website(\"https://jeevatrials.com/who-we-serve/\")\n",
    "ed_journey= Website(\"https://jeevatrials.com/customer-journey/\")\n",
    "#print(ed.title)\n",
    "#print(ed.text)"
   ]
  },
  {
   "cell_type": "code",
   "execution_count": 28,
   "id": "26398fe9",
   "metadata": {},
   "outputs": [],
   "source": [
    "ed_about.export_as_markdown(\"knowledge_base/about.md\")\n",
    "ed_serve.export_as_markdown(\"knowledge_base/serve.md\")\n",
    "ed_journey.export_as_markdown(\"knowledge_base/journey.md\")"
   ]
  }
 ],
 "metadata": {
  "kernelspec": {
   "display_name": "jeevaenv",
   "language": "python",
   "name": "python3"
  },
  "language_info": {
   "codemirror_mode": {
    "name": "ipython",
    "version": 3
   },
   "file_extension": ".py",
   "mimetype": "text/x-python",
   "name": "python",
   "nbconvert_exporter": "python",
   "pygments_lexer": "ipython3",
   "version": "3.10.12"
  }
 },
 "nbformat": 4,
 "nbformat_minor": 5
}
